{
 "cells": [
  {
   "cell_type": "markdown",
   "id": "38cf2f77-1b32-46d8-be0c-607499dfade9",
   "metadata": {},
   "source": [
    "# Loan Default Prediction using ANN Keras\n",
    "\n",
    "LendingClub Dataset from Kaggle:** https://www.kaggle.com/wordsforthewise/lending-club\n",
    "\n",
    "\n",
    "### Overview \n",
    "\n",
    "LendingClub is a US peer-to-peer lending company, headquartered in San Francisco, California. It was the first peer-to-peer lender to register its offerings as securities with the Securities and Exchange Commission (SEC), and to offer loan trading on a secondary market. LendingClub is the world's largest peer-to-peer lending platform.\n",
    "\n",
    "### Our Goal\n",
    "\n",
    "Given historical data on loans given out with information on whether or not the borrower defaulted (charge-off), can we build a model that can predict whether or not a borrower will pay back their loan? This way in the future when we get a new potential customer we can assess whether or not they are likely to pay back the loan."
   ]
  },
  {
   "cell_type": "markdown",
   "id": "7090d10b-5ced-49f0-ba72-a59098f77de9",
   "metadata": {},
   "source": [
    "<br>\n",
    "<br>\n",
    "\n",
    "**Overview Data**"
   ]
  },
  {
   "cell_type": "code",
   "execution_count": 657,
   "id": "7d83e514-73aa-4b04-b285-795c50c94a3e",
   "metadata": {},
   "outputs": [],
   "source": [
    "import pandas as pd\n",
    "import numpy as np\n",
    "import matplotlib.pyplot as plt\n",
    "import seaborn as sns\n",
    "%matplotlib inline"
   ]
  },
  {
   "cell_type": "code",
   "execution_count": 658,
   "id": "625dbe6d-8965-4175-81f4-61d3b71145c3",
   "metadata": {},
   "outputs": [
    {
     "data": {
      "text/html": [
       "<div>\n",
       "<style scoped>\n",
       "    .dataframe tbody tr th:only-of-type {\n",
       "        vertical-align: middle;\n",
       "    }\n",
       "\n",
       "    .dataframe tbody tr th {\n",
       "        vertical-align: top;\n",
       "    }\n",
       "\n",
       "    .dataframe thead th {\n",
       "        text-align: right;\n",
       "    }\n",
       "</style>\n",
       "<table border=\"1\" class=\"dataframe\">\n",
       "  <thead>\n",
       "    <tr style=\"text-align: right;\">\n",
       "      <th></th>\n",
       "      <th>0</th>\n",
       "      <th>1</th>\n",
       "      <th>2</th>\n",
       "      <th>3</th>\n",
       "      <th>4</th>\n",
       "    </tr>\n",
       "  </thead>\n",
       "  <tbody>\n",
       "    <tr>\n",
       "      <th>loan_amnt</th>\n",
       "      <td>10000.0</td>\n",
       "      <td>8000.0</td>\n",
       "      <td>15600.0</td>\n",
       "      <td>7200.0</td>\n",
       "      <td>24375.0</td>\n",
       "    </tr>\n",
       "    <tr>\n",
       "      <th>term</th>\n",
       "      <td>36 months</td>\n",
       "      <td>36 months</td>\n",
       "      <td>36 months</td>\n",
       "      <td>36 months</td>\n",
       "      <td>60 months</td>\n",
       "    </tr>\n",
       "    <tr>\n",
       "      <th>int_rate</th>\n",
       "      <td>11.44</td>\n",
       "      <td>11.99</td>\n",
       "      <td>10.49</td>\n",
       "      <td>6.49</td>\n",
       "      <td>17.27</td>\n",
       "    </tr>\n",
       "    <tr>\n",
       "      <th>installment</th>\n",
       "      <td>329.48</td>\n",
       "      <td>265.68</td>\n",
       "      <td>506.97</td>\n",
       "      <td>220.65</td>\n",
       "      <td>609.33</td>\n",
       "    </tr>\n",
       "    <tr>\n",
       "      <th>grade</th>\n",
       "      <td>B</td>\n",
       "      <td>B</td>\n",
       "      <td>B</td>\n",
       "      <td>A</td>\n",
       "      <td>C</td>\n",
       "    </tr>\n",
       "    <tr>\n",
       "      <th>sub_grade</th>\n",
       "      <td>B4</td>\n",
       "      <td>B5</td>\n",
       "      <td>B3</td>\n",
       "      <td>A2</td>\n",
       "      <td>C5</td>\n",
       "    </tr>\n",
       "    <tr>\n",
       "      <th>emp_title</th>\n",
       "      <td>Marketing</td>\n",
       "      <td>Credit analyst</td>\n",
       "      <td>Statistician</td>\n",
       "      <td>Client Advocate</td>\n",
       "      <td>Destiny Management Inc.</td>\n",
       "    </tr>\n",
       "    <tr>\n",
       "      <th>emp_length</th>\n",
       "      <td>10+ years</td>\n",
       "      <td>4 years</td>\n",
       "      <td>&lt; 1 year</td>\n",
       "      <td>6 years</td>\n",
       "      <td>9 years</td>\n",
       "    </tr>\n",
       "    <tr>\n",
       "      <th>home_ownership</th>\n",
       "      <td>RENT</td>\n",
       "      <td>MORTGAGE</td>\n",
       "      <td>RENT</td>\n",
       "      <td>RENT</td>\n",
       "      <td>MORTGAGE</td>\n",
       "    </tr>\n",
       "    <tr>\n",
       "      <th>annual_inc</th>\n",
       "      <td>117000.0</td>\n",
       "      <td>65000.0</td>\n",
       "      <td>43057.0</td>\n",
       "      <td>54000.0</td>\n",
       "      <td>55000.0</td>\n",
       "    </tr>\n",
       "    <tr>\n",
       "      <th>verification_status</th>\n",
       "      <td>Not Verified</td>\n",
       "      <td>Not Verified</td>\n",
       "      <td>Source Verified</td>\n",
       "      <td>Not Verified</td>\n",
       "      <td>Verified</td>\n",
       "    </tr>\n",
       "    <tr>\n",
       "      <th>issue_d</th>\n",
       "      <td>Jan-2015</td>\n",
       "      <td>Jan-2015</td>\n",
       "      <td>Jan-2015</td>\n",
       "      <td>Nov-2014</td>\n",
       "      <td>Apr-2013</td>\n",
       "    </tr>\n",
       "    <tr>\n",
       "      <th>loan_status</th>\n",
       "      <td>Fully Paid</td>\n",
       "      <td>Fully Paid</td>\n",
       "      <td>Fully Paid</td>\n",
       "      <td>Fully Paid</td>\n",
       "      <td>Charged Off</td>\n",
       "    </tr>\n",
       "    <tr>\n",
       "      <th>purpose</th>\n",
       "      <td>vacation</td>\n",
       "      <td>debt_consolidation</td>\n",
       "      <td>credit_card</td>\n",
       "      <td>credit_card</td>\n",
       "      <td>credit_card</td>\n",
       "    </tr>\n",
       "    <tr>\n",
       "      <th>title</th>\n",
       "      <td>Vacation</td>\n",
       "      <td>Debt consolidation</td>\n",
       "      <td>Credit card refinancing</td>\n",
       "      <td>Credit card refinancing</td>\n",
       "      <td>Credit Card Refinance</td>\n",
       "    </tr>\n",
       "    <tr>\n",
       "      <th>dti</th>\n",
       "      <td>26.24</td>\n",
       "      <td>22.05</td>\n",
       "      <td>12.79</td>\n",
       "      <td>2.6</td>\n",
       "      <td>33.95</td>\n",
       "    </tr>\n",
       "    <tr>\n",
       "      <th>earliest_cr_line</th>\n",
       "      <td>Jun-1990</td>\n",
       "      <td>Jul-2004</td>\n",
       "      <td>Aug-2007</td>\n",
       "      <td>Sep-2006</td>\n",
       "      <td>Mar-1999</td>\n",
       "    </tr>\n",
       "    <tr>\n",
       "      <th>open_acc</th>\n",
       "      <td>16.0</td>\n",
       "      <td>17.0</td>\n",
       "      <td>13.0</td>\n",
       "      <td>6.0</td>\n",
       "      <td>13.0</td>\n",
       "    </tr>\n",
       "    <tr>\n",
       "      <th>pub_rec</th>\n",
       "      <td>0.0</td>\n",
       "      <td>0.0</td>\n",
       "      <td>0.0</td>\n",
       "      <td>0.0</td>\n",
       "      <td>0.0</td>\n",
       "    </tr>\n",
       "    <tr>\n",
       "      <th>revol_bal</th>\n",
       "      <td>36369.0</td>\n",
       "      <td>20131.0</td>\n",
       "      <td>11987.0</td>\n",
       "      <td>5472.0</td>\n",
       "      <td>24584.0</td>\n",
       "    </tr>\n",
       "    <tr>\n",
       "      <th>revol_util</th>\n",
       "      <td>41.8</td>\n",
       "      <td>53.3</td>\n",
       "      <td>92.2</td>\n",
       "      <td>21.5</td>\n",
       "      <td>69.8</td>\n",
       "    </tr>\n",
       "    <tr>\n",
       "      <th>total_acc</th>\n",
       "      <td>25.0</td>\n",
       "      <td>27.0</td>\n",
       "      <td>26.0</td>\n",
       "      <td>13.0</td>\n",
       "      <td>43.0</td>\n",
       "    </tr>\n",
       "    <tr>\n",
       "      <th>initial_list_status</th>\n",
       "      <td>w</td>\n",
       "      <td>f</td>\n",
       "      <td>f</td>\n",
       "      <td>f</td>\n",
       "      <td>f</td>\n",
       "    </tr>\n",
       "    <tr>\n",
       "      <th>application_type</th>\n",
       "      <td>INDIVIDUAL</td>\n",
       "      <td>INDIVIDUAL</td>\n",
       "      <td>INDIVIDUAL</td>\n",
       "      <td>INDIVIDUAL</td>\n",
       "      <td>INDIVIDUAL</td>\n",
       "    </tr>\n",
       "    <tr>\n",
       "      <th>mort_acc</th>\n",
       "      <td>0.0</td>\n",
       "      <td>3.0</td>\n",
       "      <td>0.0</td>\n",
       "      <td>0.0</td>\n",
       "      <td>1.0</td>\n",
       "    </tr>\n",
       "    <tr>\n",
       "      <th>pub_rec_bankruptcies</th>\n",
       "      <td>0.0</td>\n",
       "      <td>0.0</td>\n",
       "      <td>0.0</td>\n",
       "      <td>0.0</td>\n",
       "      <td>0.0</td>\n",
       "    </tr>\n",
       "    <tr>\n",
       "      <th>address</th>\n",
       "      <td>0174 Michelle Gateway\\nMendozaberg, OK 22690</td>\n",
       "      <td>1076 Carney Fort Apt. 347\\nLoganmouth, SD 05113</td>\n",
       "      <td>87025 Mark Dale Apt. 269\\nNew Sabrina, WV 05113</td>\n",
       "      <td>823 Reid Ford\\nDelacruzside, MA 00813</td>\n",
       "      <td>679 Luna Roads\\nGreggshire, VA 11650</td>\n",
       "    </tr>\n",
       "  </tbody>\n",
       "</table>\n",
       "</div>"
      ],
      "text/plain": [
       "                                                                 0  \\\n",
       "loan_amnt                                                  10000.0   \n",
       "term                                                     36 months   \n",
       "int_rate                                                     11.44   \n",
       "installment                                                 329.48   \n",
       "grade                                                            B   \n",
       "sub_grade                                                       B4   \n",
       "emp_title                                                Marketing   \n",
       "emp_length                                               10+ years   \n",
       "home_ownership                                                RENT   \n",
       "annual_inc                                                117000.0   \n",
       "verification_status                                   Not Verified   \n",
       "issue_d                                                   Jan-2015   \n",
       "loan_status                                             Fully Paid   \n",
       "purpose                                                   vacation   \n",
       "title                                                     Vacation   \n",
       "dti                                                          26.24   \n",
       "earliest_cr_line                                          Jun-1990   \n",
       "open_acc                                                      16.0   \n",
       "pub_rec                                                        0.0   \n",
       "revol_bal                                                  36369.0   \n",
       "revol_util                                                    41.8   \n",
       "total_acc                                                     25.0   \n",
       "initial_list_status                                              w   \n",
       "application_type                                        INDIVIDUAL   \n",
       "mort_acc                                                       0.0   \n",
       "pub_rec_bankruptcies                                           0.0   \n",
       "address               0174 Michelle Gateway\\nMendozaberg, OK 22690   \n",
       "\n",
       "                                                                    1  \\\n",
       "loan_amnt                                                      8000.0   \n",
       "term                                                        36 months   \n",
       "int_rate                                                        11.99   \n",
       "installment                                                    265.68   \n",
       "grade                                                               B   \n",
       "sub_grade                                                          B5   \n",
       "emp_title                                             Credit analyst    \n",
       "emp_length                                                    4 years   \n",
       "home_ownership                                               MORTGAGE   \n",
       "annual_inc                                                    65000.0   \n",
       "verification_status                                      Not Verified   \n",
       "issue_d                                                      Jan-2015   \n",
       "loan_status                                                Fully Paid   \n",
       "purpose                                            debt_consolidation   \n",
       "title                                              Debt consolidation   \n",
       "dti                                                             22.05   \n",
       "earliest_cr_line                                             Jul-2004   \n",
       "open_acc                                                         17.0   \n",
       "pub_rec                                                           0.0   \n",
       "revol_bal                                                     20131.0   \n",
       "revol_util                                                       53.3   \n",
       "total_acc                                                        27.0   \n",
       "initial_list_status                                                 f   \n",
       "application_type                                           INDIVIDUAL   \n",
       "mort_acc                                                          3.0   \n",
       "pub_rec_bankruptcies                                              0.0   \n",
       "address               1076 Carney Fort Apt. 347\\nLoganmouth, SD 05113   \n",
       "\n",
       "                                                                    2  \\\n",
       "loan_amnt                                                     15600.0   \n",
       "term                                                        36 months   \n",
       "int_rate                                                        10.49   \n",
       "installment                                                    506.97   \n",
       "grade                                                               B   \n",
       "sub_grade                                                          B3   \n",
       "emp_title                                                Statistician   \n",
       "emp_length                                                   < 1 year   \n",
       "home_ownership                                                   RENT   \n",
       "annual_inc                                                    43057.0   \n",
       "verification_status                                   Source Verified   \n",
       "issue_d                                                      Jan-2015   \n",
       "loan_status                                                Fully Paid   \n",
       "purpose                                                   credit_card   \n",
       "title                                         Credit card refinancing   \n",
       "dti                                                             12.79   \n",
       "earliest_cr_line                                             Aug-2007   \n",
       "open_acc                                                         13.0   \n",
       "pub_rec                                                           0.0   \n",
       "revol_bal                                                     11987.0   \n",
       "revol_util                                                       92.2   \n",
       "total_acc                                                        26.0   \n",
       "initial_list_status                                                 f   \n",
       "application_type                                           INDIVIDUAL   \n",
       "mort_acc                                                          0.0   \n",
       "pub_rec_bankruptcies                                              0.0   \n",
       "address               87025 Mark Dale Apt. 269\\nNew Sabrina, WV 05113   \n",
       "\n",
       "                                                          3  \\\n",
       "loan_amnt                                            7200.0   \n",
       "term                                              36 months   \n",
       "int_rate                                               6.49   \n",
       "installment                                          220.65   \n",
       "grade                                                     A   \n",
       "sub_grade                                                A2   \n",
       "emp_title                                   Client Advocate   \n",
       "emp_length                                          6 years   \n",
       "home_ownership                                         RENT   \n",
       "annual_inc                                          54000.0   \n",
       "verification_status                            Not Verified   \n",
       "issue_d                                            Nov-2014   \n",
       "loan_status                                      Fully Paid   \n",
       "purpose                                         credit_card   \n",
       "title                               Credit card refinancing   \n",
       "dti                                                     2.6   \n",
       "earliest_cr_line                                   Sep-2006   \n",
       "open_acc                                                6.0   \n",
       "pub_rec                                                 0.0   \n",
       "revol_bal                                            5472.0   \n",
       "revol_util                                             21.5   \n",
       "total_acc                                              13.0   \n",
       "initial_list_status                                       f   \n",
       "application_type                                 INDIVIDUAL   \n",
       "mort_acc                                                0.0   \n",
       "pub_rec_bankruptcies                                    0.0   \n",
       "address               823 Reid Ford\\nDelacruzside, MA 00813   \n",
       "\n",
       "                                                         4  \n",
       "loan_amnt                                          24375.0  \n",
       "term                                             60 months  \n",
       "int_rate                                             17.27  \n",
       "installment                                         609.33  \n",
       "grade                                                    C  \n",
       "sub_grade                                               C5  \n",
       "emp_title                          Destiny Management Inc.  \n",
       "emp_length                                         9 years  \n",
       "home_ownership                                    MORTGAGE  \n",
       "annual_inc                                         55000.0  \n",
       "verification_status                               Verified  \n",
       "issue_d                                           Apr-2013  \n",
       "loan_status                                    Charged Off  \n",
       "purpose                                        credit_card  \n",
       "title                                Credit Card Refinance  \n",
       "dti                                                  33.95  \n",
       "earliest_cr_line                                  Mar-1999  \n",
       "open_acc                                              13.0  \n",
       "pub_rec                                                0.0  \n",
       "revol_bal                                          24584.0  \n",
       "revol_util                                            69.8  \n",
       "total_acc                                             43.0  \n",
       "initial_list_status                                      f  \n",
       "application_type                                INDIVIDUAL  \n",
       "mort_acc                                               1.0  \n",
       "pub_rec_bankruptcies                                   0.0  \n",
       "address               679 Luna Roads\\nGreggshire, VA 11650  "
      ]
     },
     "execution_count": 658,
     "metadata": {},
     "output_type": "execute_result"
    }
   ],
   "source": [
    "LendingClub = pd.read_csv('../DATA/lending_club_loan_two.csv')\n",
    "LendingClub.head().T"
   ]
  },
  {
   "cell_type": "code",
   "execution_count": 659,
   "id": "f92cb03a-839e-49ba-b5be-86bf288742ea",
   "metadata": {},
   "outputs": [
    {
     "name": "stdout",
     "output_type": "stream",
     "text": [
      "<class 'pandas.core.frame.DataFrame'>\n",
      "RangeIndex: 396030 entries, 0 to 396029\n",
      "Data columns (total 27 columns):\n",
      " #   Column                Non-Null Count   Dtype  \n",
      "---  ------                --------------   -----  \n",
      " 0   loan_amnt             396030 non-null  float64\n",
      " 1   term                  396030 non-null  object \n",
      " 2   int_rate              396030 non-null  float64\n",
      " 3   installment           396030 non-null  float64\n",
      " 4   grade                 396030 non-null  object \n",
      " 5   sub_grade             396030 non-null  object \n",
      " 6   emp_title             373103 non-null  object \n",
      " 7   emp_length            377729 non-null  object \n",
      " 8   home_ownership        396030 non-null  object \n",
      " 9   annual_inc            396030 non-null  float64\n",
      " 10  verification_status   396030 non-null  object \n",
      " 11  issue_d               396030 non-null  object \n",
      " 12  loan_status           396030 non-null  object \n",
      " 13  purpose               396030 non-null  object \n",
      " 14  title                 394275 non-null  object \n",
      " 15  dti                   396030 non-null  float64\n",
      " 16  earliest_cr_line      396030 non-null  object \n",
      " 17  open_acc              396030 non-null  float64\n",
      " 18  pub_rec               396030 non-null  float64\n",
      " 19  revol_bal             396030 non-null  float64\n",
      " 20  revol_util            395754 non-null  float64\n",
      " 21  total_acc             396030 non-null  float64\n",
      " 22  initial_list_status   396030 non-null  object \n",
      " 23  application_type      396030 non-null  object \n",
      " 24  mort_acc              358235 non-null  float64\n",
      " 25  pub_rec_bankruptcies  395495 non-null  float64\n",
      " 26  address               396030 non-null  object \n",
      "dtypes: float64(12), object(15)\n",
      "memory usage: 81.6+ MB\n"
     ]
    }
   ],
   "source": [
    "LendingClub.info()"
   ]
  },
  {
   "cell_type": "markdown",
   "id": "5c95c6f9-8fbb-4af8-8bed-beb215f4033d",
   "metadata": {},
   "source": [
    "<br>\n",
    "\n",
    "## Exploratory Data Analysis\n",
    "\n",
    "Let's get an overview on varriables, statistics summary.\n",
    "The response variable is loan_status (Current status of the loan)."
   ]
  },
  {
   "cell_type": "code",
   "execution_count": 660,
   "id": "d0b4de56-7f56-4620-a0c1-cc09193cad5d",
   "metadata": {},
   "outputs": [
    {
     "name": "stderr",
     "output_type": "stream",
     "text": [
      "/usr/local/anaconda3/lib/python3.8/site-packages/seaborn/_decorators.py:36: FutureWarning: Pass the following variable as a keyword arg: x. From version 0.12, the only valid positional argument will be `data`, and passing other arguments without an explicit keyword will result in an error or misinterpretation.\n",
      "  warnings.warn(\n"
     ]
    },
    {
     "data": {
      "text/plain": [
       "<AxesSubplot:xlabel='loan_status', ylabel='count'>"
      ]
     },
     "execution_count": 660,
     "metadata": {},
     "output_type": "execute_result"
    },
    {
     "data": {
      "image/png": "[encoded data removed]",
      "text/plain": [
       "<Figure size 432x288 with 1 Axes>"
      ]
     },
     "metadata": {},
     "output_type": "display_data"
    }
   ],
   "source": [
    "plt.style.use('ggplot')\n",
    "sns.countplot(LendingClub['loan_status'], alpha = 0.4)"
   ]
  },
  {
   "cell_type": "markdown",
   "id": "33d9a5d8-fba3-4602-bf72-892755ce3106",
   "metadata": {},
   "source": [
    "Another important variable is loan_amnt (The listed amount of the loan applied for by the borrower. If at some point in time, the credit department reduces the loan amount, then it will be reflected in this value.)"
   ]
  },
  {
   "cell_type": "code",
   "execution_count": 661,
   "id": "372658ce-4d62-4ad8-bcbd-4348515f0905",
   "metadata": {},
   "outputs": [
    {
     "data": {
      "text/plain": [
       "<AxesSubplot:>"
      ]
     },
     "execution_count": 661,
     "metadata": {},
     "output_type": "execute_result"
    },
    {
     "data": {
      "image/png": "[encoded data removed]",
      "text/plain": [
       "<Figure size 432x288 with 1 Axes>"
      ]
     },
     "metadata": {},
     "output_type": "display_data"
    }
   ],
   "source": [
    "LendingClub['loan_amnt'].hist( alpha = 0.4, bins = 20)"
   ]
  },
  {
   "cell_type": "markdown",
   "id": "35cbfb1c-1b5f-4b8e-b4d3-f024d192a8de",
   "metadata": {},
   "source": [
    "Let's explore correlation between the continuous feature variables. "
   ]
  },
  {
   "cell_type": "code",
   "execution_count": 662,
   "id": "49beaf45-bb53-4590-94e4-646a2b7d942f",
   "metadata": {},
   "outputs": [
    {
     "data": {
      "image/png": "[encoded data removed]",
      "text/plain": [
       "<Figure size 864x504 with 2 Axes>"
      ]
     },
     "metadata": {},
     "output_type": "display_data"
    }
   ],
   "source": [
    "plt.figure(figsize=(12,7))\n",
    "sns.heatmap(LendingClub.corr(), annot=True, cmap='Blues')\n",
    "plt.tight_layout()"
   ]
  },
  {
   "cell_type": "markdown",
   "id": "7d839673-08d3-44b6-824d-3f3a99a283b5",
   "metadata": {},
   "source": [
    "There is a strong correlation between loan_amt and installment (corr = 0.95 from the heatmap). Lets take a scatter plot for these 2 variables."
   ]
  },
  {
   "cell_type": "code",
   "execution_count": 663,
   "id": "fbe19aa2-130b-47d8-8a08-cbaeb3cd9a04",
   "metadata": {},
   "outputs": [
    {
     "data": {
      "text/plain": [
       "<AxesSubplot:xlabel='loan_amnt', ylabel='installment'>"
      ]
     },
     "execution_count": 663,
     "metadata": {},
     "output_type": "execute_result"
    },
    {
     "data": {
      "image/png": "[encoded data removed]",
      "text/plain": [
       "<Figure size 432x288 with 1 Axes>"
      ]
     },
     "metadata": {},
     "output_type": "display_data"
    }
   ],
   "source": [
    "sns.scatterplot(data = LendingClub, x = 'loan_amnt', y = 'installment', alpha = 0.5)"
   ]
  },
  {
   "cell_type": "markdown",
   "id": "5f31bb78-60db-4b44-9a4b-ade00d8a9aa6",
   "metadata": {},
   "source": [
    "This makes sense since installment is the monthly payment from the total loan amounts. "
   ]
  },
  {
   "cell_type": "markdown",
   "id": "9f052141-f9b9-44a2-a870-b567ef44f2d1",
   "metadata": {},
   "source": [
    "Lets plot boxlot between loan_status and loan_amnt. \n",
    "\n"
   ]
  },
  {
   "cell_type": "code",
   "execution_count": 664,
   "id": "eb9619f8-d767-4e03-a59b-1badc28704cd",
   "metadata": {},
   "outputs": [
    {
     "data": {
      "text/plain": [
       "<AxesSubplot:xlabel='loan_status', ylabel='loan_amnt'>"
      ]
     },
     "execution_count": 664,
     "metadata": {},
     "output_type": "execute_result"
    },
    {
     "data": {
      "image/png": "[encoded data removed]",
      "text/plain": [
       "<Figure size 432x288 with 1 Axes>"
      ]
     },
     "metadata": {},
     "output_type": "display_data"
    }
   ],
   "source": [
    "sns.boxplot(data = LendingClub, x = 'loan_status', y = 'loan_amnt', palette='pastel')"
   ]
  },
  {
   "cell_type": "markdown",
   "id": "a7011152-8b56-4c6e-953d-69e6aef5678f",
   "metadata": {},
   "source": [
    "It seems there is no significant difference of loan amount between good borrower and bad borrower, which is pretty interesting.\n",
    "\n",
    "let's check the other potential variables."
   ]
  },
  {
   "cell_type": "code",
   "execution_count": 665,
   "id": "0dd8b413-55e1-41f3-ae42-533b5a33d601",
   "metadata": {},
   "outputs": [
    {
     "data": {
      "text/plain": [
       "Text(0.5, 1.0, 'grade countplot')"
      ]
     },
     "execution_count": 665,
     "metadata": {},
     "output_type": "execute_result"
    },
    {
     "data": {
      "image/png": "[encoded data removed]",
      "text/plain": [
       "<Figure size 576x432 with 1 Axes>"
      ]
     },
     "metadata": {},
     "output_type": "display_data"
    }
   ],
   "source": [
    "plt.figure(figsize=(8,6))\n",
    "sns.countplot(data = LendingClub, x = 'grade', hue = 'loan_status', alpha = 0.5) \n",
    "plt.title('grade countplot')"
   ]
  },
  {
   "cell_type": "code",
   "execution_count": 666,
   "id": "b8255d21-7387-4ea7-825f-59b3d28598c6",
   "metadata": {},
   "outputs": [
    {
     "data": {
      "text/plain": [
       "array(['B4', 'B5', 'B3', 'A2', 'C5', 'C3', 'A1', 'B2', 'C1', 'A5', 'E4',\n",
       "       'A4', 'A3', 'D1', 'C2', 'B1', 'D3', 'D5', 'D2', 'E1', 'E2', 'E5',\n",
       "       'F4', 'E3', 'D4', 'G1', 'F5', 'G2', 'C4', 'F1', 'F3', 'G5', 'G4',\n",
       "       'F2', 'G3'], dtype=object)"
      ]
     },
     "execution_count": 666,
     "metadata": {},
     "output_type": "execute_result"
    }
   ],
   "source": [
    "LendingClub['sub_grade'].unique()"
   ]
  },
  {
   "cell_type": "code",
   "execution_count": 667,
   "id": "060a5ffd-d2f2-482e-8823-d672f1a51316",
   "metadata": {},
   "outputs": [
    {
     "data": {
      "text/plain": [
       "Text(0.5, 1.0, 'subgrade countplot')"
      ]
     },
     "execution_count": 667,
     "metadata": {},
     "output_type": "execute_result"
    },
    {
     "data": {
      "image/png": "[encoded data removed]",
      "text/plain": [
       "<Figure size 1080x432 with 1 Axes>"
      ]
     },
     "metadata": {},
     "output_type": "display_data"
    }
   ],
   "source": [
    "plt.figure(figsize=(15,6))\n",
    "order1 = sorted(LendingClub['sub_grade'].unique()) #create order to apply for countplot\n",
    "sns.countplot(data = LendingClub, x = 'sub_grade', order = order1, hue = 'loan_status', alpha = 0.5) \n",
    "plt.title('subgrade countplot')"
   ]
  },
  {
   "cell_type": "markdown",
   "id": "14ce68eb-7e29-4ac7-b349-9aba611bd3b2",
   "metadata": {},
   "source": [
    "It looks like F and G subgrades don't get paid back that often. And subgrades A and B are mainly fully paid. "
   ]
  },
  {
   "cell_type": "markdown",
   "id": "a0ca6fad-4348-45d6-8d46-ded0bd5e5270",
   "metadata": {},
   "source": [
    "<br>\n",
    "\n",
    "**Create dummy variable**"
   ]
  },
  {
   "cell_type": "markdown",
   "id": "6932a809-83b9-40ec-b0a0-561e234f486f",
   "metadata": {},
   "source": [
    "New column called 'loan_repaid' which will contain a 1 if the loan status was \"Fully Paid\" and a 0 if it was \"Charged Off\"."
   ]
  },
  {
   "cell_type": "code",
   "execution_count": 668,
   "id": "bec07a27-050d-499a-909a-ad4de9ffa661",
   "metadata": {},
   "outputs": [],
   "source": [
    "LendingClub['loan_repaid'] = LendingClub['loan_status'].apply(lambda x: 1 \n",
    "                                                              if x == \"Fully Paid\" \n",
    "                                                              else 0)"
   ]
  },
  {
   "cell_type": "markdown",
   "id": "be1d8d7d-64dd-4099-82ef-2c978835dbbd",
   "metadata": {},
   "source": [
    "Checking the correlation of the numeric features to the new loan_repaid column."
   ]
  },
  {
   "cell_type": "code",
   "execution_count": 669,
   "id": "2fc27867-a8bf-459b-850f-4eeebf497e04",
   "metadata": {},
   "outputs": [
    {
     "data": {
      "text/plain": [
       "<function matplotlib.pyplot.tight_layout(*, pad=1.08, h_pad=None, w_pad=None, rect=None)>"
      ]
     },
     "execution_count": 669,
     "metadata": {},
     "output_type": "execute_result"
    },
    {
     "data": {
      "image/png": "[encoded data removed]",
      "text/plain": [
       "<Figure size 864x432 with 1 Axes>"
      ]
     },
     "metadata": {},
     "output_type": "display_data"
    }
   ],
   "source": [
    "plt.figure(figsize=(12,6))\n",
    "LendingClub.corr()['loan_repaid'].drop('loan_repaid').sort_values().plot(kind = 'bar', alpha = 0.5)\n",
    "plt.tight_layout"
   ]
  },
  {
   "cell_type": "markdown",
   "id": "c7af7f61-baea-4c30-aa39-86fa99552136",
   "metadata": {},
   "source": [
    "<br>\n",
    "\n",
    "## Data Preprocessing"
   ]
  },
  {
   "cell_type": "markdown",
   "id": "2c8e9410-2864-4838-8a85-cd6040c09512",
   "metadata": {},
   "source": [
    "**Missing data**\n",
    "\n",
    "Checking null values of the data frame"
   ]
  },
  {
   "cell_type": "code",
   "execution_count": 670,
   "id": "fd971811-5668-444a-b80b-27ff49eddf9c",
   "metadata": {},
   "outputs": [
    {
     "data": {
      "text/plain": [
       "loan_amnt                   0\n",
       "term                        0\n",
       "int_rate                    0\n",
       "installment                 0\n",
       "grade                       0\n",
       "sub_grade                   0\n",
       "emp_title               22927\n",
       "emp_length              18301\n",
       "home_ownership              0\n",
       "annual_inc                  0\n",
       "verification_status         0\n",
       "issue_d                     0\n",
       "loan_status                 0\n",
       "purpose                     0\n",
       "title                    1755\n",
       "dti                         0\n",
       "earliest_cr_line            0\n",
       "open_acc                    0\n",
       "pub_rec                     0\n",
       "revol_bal                   0\n",
       "revol_util                276\n",
       "total_acc                   0\n",
       "initial_list_status         0\n",
       "application_type            0\n",
       "mort_acc                37795\n",
       "pub_rec_bankruptcies      535\n",
       "address                     0\n",
       "loan_repaid                 0\n",
       "dtype: int64"
      ]
     },
     "execution_count": 670,
     "metadata": {},
     "output_type": "execute_result"
    }
   ],
   "source": [
    "LendingClub.isnull().sum()"
   ]
  },
  {
   "cell_type": "code",
   "execution_count": 671,
   "id": "a412cd0a-8cb9-47d1-92d5-09c11d59fb42",
   "metadata": {},
   "outputs": [
    {
     "data": {
      "text/plain": [
       "loan_amnt               0.000000\n",
       "term                    0.000000\n",
       "int_rate                0.000000\n",
       "installment             0.000000\n",
       "grade                   0.000000\n",
       "sub_grade               0.000000\n",
       "emp_title               5.789208\n",
       "emp_length              4.621115\n",
       "home_ownership          0.000000\n",
       "annual_inc              0.000000\n",
       "verification_status     0.000000\n",
       "issue_d                 0.000000\n",
       "loan_status             0.000000\n",
       "purpose                 0.000000\n",
       "title                   0.443148\n",
       "dti                     0.000000\n",
       "earliest_cr_line        0.000000\n",
       "open_acc                0.000000\n",
       "pub_rec                 0.000000\n",
       "revol_bal               0.000000\n",
       "revol_util              0.069692\n",
       "total_acc               0.000000\n",
       "initial_list_status     0.000000\n",
       "application_type        0.000000\n",
       "mort_acc                9.543469\n",
       "pub_rec_bankruptcies    0.135091\n",
       "address                 0.000000\n",
       "loan_repaid             0.000000\n",
       "dtype: float64"
      ]
     },
     "execution_count": 671,
     "metadata": {},
     "output_type": "execute_result"
    }
   ],
   "source": [
    "LendingClub.isnull().sum().apply(lambda x:x/len(LendingClub)*100) #Checking percentage"
   ]
  },
  {
   "cell_type": "markdown",
   "id": "e19ccd4d-bf05-4a8f-aa07-3e785b432a26",
   "metadata": {},
   "source": [
    "We are considering these 2 variable emp_title and emp_length to be removed because of its missing data. Let's check are they significant important\n",
    "\n",
    "emp_title: the job title supplied by the Borrower when applying for the loan.\n",
    "emp_length: Employment length in years. Possible values are between 0 and 10 where 0 means less than one year and 10 means ten or more years."
   ]
  },
  {
   "cell_type": "code",
   "execution_count": 672,
   "id": "47338e83-b1bc-4662-be15-9283c43ed42e",
   "metadata": {},
   "outputs": [
    {
     "data": {
      "text/plain": [
       "173105"
      ]
     },
     "execution_count": 672,
     "metadata": {},
     "output_type": "execute_result"
    }
   ],
   "source": [
    "LendingClub['emp_title'].nunique()"
   ]
  },
  {
   "cell_type": "code",
   "execution_count": 673,
   "id": "6903f3a9-f777-4967-901a-3c47190a4de7",
   "metadata": {},
   "outputs": [
    {
     "data": {
      "text/plain": [
       "396030"
      ]
     },
     "execution_count": 673,
     "metadata": {},
     "output_type": "execute_result"
    }
   ],
   "source": [
    "len(LendingClub)"
   ]
  },
  {
   "cell_type": "markdown",
   "id": "0f30d25d-6bfd-4d46-b0c1-8b3c26e573ef",
   "metadata": {},
   "source": [
    "Realistically there are too many unique job titles to try to convert this to a dummy variable feature. Let's remove that emp_title column."
   ]
  },
  {
   "cell_type": "code",
   "execution_count": 674,
   "id": "c5cb4c97-3cbd-4f5b-b947-abc2046f875c",
   "metadata": {},
   "outputs": [],
   "source": [
    "LendingClub.drop(columns='emp_title', inplace=True)"
   ]
  },
  {
   "cell_type": "markdown",
   "id": "8bae2f7b-94d2-4e6f-a05c-36a65b90c4c7",
   "metadata": {},
   "source": [
    "Now deal with emp_length"
   ]
  },
  {
   "cell_type": "code",
   "execution_count": 675,
   "id": "ba9a0e85-b643-4ae0-a311-6227b8b586e1",
   "metadata": {},
   "outputs": [
    {
     "data": {
      "text/plain": [
       "11"
      ]
     },
     "execution_count": 675,
     "metadata": {},
     "output_type": "execute_result"
    }
   ],
   "source": [
    "LendingClub['emp_length'].nunique()"
   ]
  },
  {
   "cell_type": "code",
   "execution_count": 676,
   "id": "e0ec54b2-5d31-468a-8b16-884dd7c8a491",
   "metadata": {},
   "outputs": [
    {
     "data": {
      "text/plain": [
       "10+ years    126041\n",
       "2 years       35827\n",
       "< 1 year      31725\n",
       "3 years       31665\n",
       "5 years       26495\n",
       "1 year        25882\n",
       "4 years       23952\n",
       "6 years       20841\n",
       "7 years       20819\n",
       "8 years       19168\n",
       "9 years       15314\n",
       "Name: emp_length, dtype: int64"
      ]
     },
     "execution_count": 676,
     "metadata": {},
     "output_type": "execute_result"
    }
   ],
   "source": [
    "LendingClub['emp_length'].value_counts()"
   ]
  },
  {
   "cell_type": "code",
   "execution_count": 677,
   "id": "f6504821-fd46-46e0-a937-edc4abd12532",
   "metadata": {},
   "outputs": [
    {
     "data": {
      "text/plain": [
       "<AxesSubplot:xlabel='emp_length', ylabel='count'>"
      ]
     },
     "execution_count": 677,
     "metadata": {},
     "output_type": "execute_result"
    },
    {
     "data": {
      "image/png": "[encoded data removed]",
      "text/plain": [
       "<Figure size 864x432 with 1 Axes>"
      ]
     },
     "metadata": {},
     "output_type": "display_data"
    }
   ],
   "source": [
    "plt.figure(figsize=(12,6))\n",
    "sns.countplot(data = LendingClub, x = 'emp_length', hue = 'loan_status', alpha = 0.5)"
   ]
  },
  {
   "cell_type": "markdown",
   "id": "ed20069c-6ea6-4b23-9fd9-c84dc1932ae2",
   "metadata": {},
   "source": [
    "This still doesn't really inform us if there is a strong relationship between employment length and being charged off, let's check the percentage of charge offs per category."
   ]
  },
  {
   "cell_type": "code",
   "execution_count": 678,
   "id": "3f1d30f2-c27a-403b-af23-cde3af797e81",
   "metadata": {},
   "outputs": [
    {
     "data": {
      "image/png": "[encoded data removed]",
      "text/plain": [
       "<Figure size 576x360 with 1 Axes>"
      ]
     },
     "metadata": {},
     "output_type": "display_data"
    }
   ],
   "source": [
    "plt.figure(figsize=(8,5))\n",
    "emp_fp = LendingClub[LendingClub['loan_status']==\"Fully Paid\"].groupby(\"emp_length\").count()['loan_status']\n",
    "emp_co = LendingClub[LendingClub['loan_status']==\"Charged Off\"].groupby(\"emp_length\").count()['loan_status']\n",
    "emp = emp_co/(emp_co+emp_fp) #Charged off rate\n",
    "emp.plot(kind = 'bar', alpha = 0.4)\n",
    "plt.tight_layout()"
   ]
  },
  {
   "cell_type": "markdown",
   "id": "b261a94a-e14e-400f-a564-6ac813ff695c",
   "metadata": {},
   "source": [
    "Charge off rates are significantly similar across all employment lengths. So we can go ahead and drop the emp_length column."
   ]
  },
  {
   "cell_type": "code",
   "execution_count": 679,
   "id": "0d11f2f8-fd8f-4588-b1a7-b21ed4324571",
   "metadata": {},
   "outputs": [],
   "source": [
    "LendingClub.drop(columns='emp_length', inplace=True)"
   ]
  },
  {
   "cell_type": "markdown",
   "id": "98c426d9-57ed-4bea-abf1-f69674cba3a7",
   "metadata": {},
   "source": [
    "Revisit the DataFrame to see what feature columns still have missing data."
   ]
  },
  {
   "cell_type": "code",
   "execution_count": 680,
   "id": "99b1bfcb-a59c-4cf6-bf65-77b08574120c",
   "metadata": {},
   "outputs": [
    {
     "data": {
      "text/plain": [
       "loan_amnt                   0\n",
       "term                        0\n",
       "int_rate                    0\n",
       "installment                 0\n",
       "grade                       0\n",
       "sub_grade                   0\n",
       "home_ownership              0\n",
       "annual_inc                  0\n",
       "verification_status         0\n",
       "issue_d                     0\n",
       "loan_status                 0\n",
       "purpose                     0\n",
       "title                    1755\n",
       "dti                         0\n",
       "earliest_cr_line            0\n",
       "open_acc                    0\n",
       "pub_rec                     0\n",
       "revol_bal                   0\n",
       "revol_util                276\n",
       "total_acc                   0\n",
       "initial_list_status         0\n",
       "application_type            0\n",
       "mort_acc                37795\n",
       "pub_rec_bankruptcies      535\n",
       "address                     0\n",
       "loan_repaid                 0\n",
       "dtype: int64"
      ]
     },
     "execution_count": 680,
     "metadata": {},
     "output_type": "execute_result"
    }
   ],
   "source": [
    "LendingClub.isna().sum()"
   ]
  },
  {
   "cell_type": "code",
   "execution_count": 681,
   "id": "73205dcd-29d9-4e6c-a193-21eca6e88f30",
   "metadata": {},
   "outputs": [
    {
     "data": {
      "text/plain": [
       "0                   Vacation\n",
       "1         Debt consolidation\n",
       "2    Credit card refinancing\n",
       "3    Credit card refinancing\n",
       "4      Credit Card Refinance\n",
       "5         Debt consolidation\n",
       "6           Home improvement\n",
       "7       No More Credit Cards\n",
       "8         Debt consolidation\n",
       "9         Debt Consolidation\n",
       "Name: title, dtype: object"
      ]
     },
     "execution_count": 681,
     "metadata": {},
     "output_type": "execute_result"
    }
   ],
   "source": [
    "LendingClub['title'].head(10)"
   ]
  },
  {
   "cell_type": "markdown",
   "id": "b137de58-972f-4b0f-83bc-77c0e6d6a759",
   "metadata": {},
   "source": [
    "The title column is simply a string subcategory/description of the purpose column. Let's drop the title column."
   ]
  },
  {
   "cell_type": "code",
   "execution_count": 682,
   "id": "a40f9644-d246-4c1e-b67e-b04d8978e1ef",
   "metadata": {},
   "outputs": [],
   "source": [
    "LendingClub.drop(columns='title', inplace=True)"
   ]
  },
  {
   "cell_type": "markdown",
   "id": "7672663b-3fde-4005-9c21-53c9b60a2aec",
   "metadata": {},
   "source": [
    "Now deal with column mort_acc (Number of mortgage accounts)."
   ]
  },
  {
   "cell_type": "code",
   "execution_count": 683,
   "id": "a76d30a1-5f9b-44e2-b58d-e58024894be2",
   "metadata": {},
   "outputs": [
    {
     "data": {
      "text/plain": [
       "33"
      ]
     },
     "execution_count": 683,
     "metadata": {},
     "output_type": "execute_result"
    }
   ],
   "source": [
    "LendingClub['mort_acc'].nunique()"
   ]
  },
  {
   "cell_type": "code",
   "execution_count": 684,
   "id": "4ef338fa-294a-4737-96dc-a7c2a465472d",
   "metadata": {},
   "outputs": [
    {
     "data": {
      "text/plain": [
       "0.0     139777\n",
       "1.0      60416\n",
       "2.0      49948\n",
       "3.0      38049\n",
       "4.0      27887\n",
       "5.0      18194\n",
       "6.0      11069\n",
       "7.0       6052\n",
       "8.0       3121\n",
       "9.0       1656\n",
       "10.0       865\n",
       "11.0       479\n",
       "12.0       264\n",
       "13.0       146\n",
       "14.0       107\n",
       "15.0        61\n",
       "16.0        37\n",
       "17.0        22\n",
       "18.0        18\n",
       "19.0        15\n",
       "20.0        13\n",
       "24.0        10\n",
       "22.0         7\n",
       "21.0         4\n",
       "25.0         4\n",
       "27.0         3\n",
       "32.0         2\n",
       "31.0         2\n",
       "23.0         2\n",
       "26.0         2\n",
       "28.0         1\n",
       "30.0         1\n",
       "34.0         1\n",
       "Name: mort_acc, dtype: int64"
      ]
     },
     "execution_count": 684,
     "metadata": {},
     "output_type": "execute_result"
    }
   ],
   "source": [
    "LendingClub['mort_acc'].value_counts()"
   ]
  },
  {
   "cell_type": "code",
   "execution_count": 685,
   "id": "b690f23f-99f9-4f04-adaf-fedf08e5ea70",
   "metadata": {},
   "outputs": [
    {
     "data": {
      "text/plain": [
       "loan_amnt               0.222315\n",
       "int_rate               -0.082583\n",
       "installment             0.193694\n",
       "annual_inc              0.236320\n",
       "dti                    -0.025439\n",
       "open_acc                0.109205\n",
       "pub_rec                 0.011552\n",
       "revol_bal               0.194925\n",
       "revol_util              0.007514\n",
       "total_acc               0.381072\n",
       "pub_rec_bankruptcies    0.027239\n",
       "loan_repaid             0.073111\n",
       "Name: mort_acc, dtype: float64"
      ]
     },
     "execution_count": 685,
     "metadata": {},
     "output_type": "execute_result"
    }
   ],
   "source": [
    "LendingClub.corr()['mort_acc'].drop('mort_acc')"
   ]
  },
  {
   "cell_type": "markdown",
   "id": "af80ff6f-43e3-41f5-bcde-e19c4abdd63f",
   "metadata": {},
   "source": [
    "We can see there is a significant correlation of mort_acc with total_acc, we can use this column total_acc to apply fillna() for missing values."
   ]
  },
  {
   "cell_type": "code",
   "execution_count": 686,
   "id": "52745781-8f90-4974-9a5e-07c91fb56b69",
   "metadata": {},
   "outputs": [
    {
     "data": {
      "text/html": [
       "<div>\n",
       "<style scoped>\n",
       "    .dataframe tbody tr th:only-of-type {\n",
       "        vertical-align: middle;\n",
       "    }\n",
       "\n",
       "    .dataframe tbody tr th {\n",
       "        vertical-align: top;\n",
       "    }\n",
       "\n",
       "    .dataframe thead th {\n",
       "        text-align: right;\n",
       "    }\n",
       "</style>\n",
       "<table border=\"1\" class=\"dataframe\">\n",
       "  <thead>\n",
       "    <tr style=\"text-align: right;\">\n",
       "      <th></th>\n",
       "      <th>total_acc</th>\n",
       "      <th>mort_acc</th>\n",
       "    </tr>\n",
       "  </thead>\n",
       "  <tbody>\n",
       "    <tr>\n",
       "      <th>0</th>\n",
       "      <td>2.0</td>\n",
       "      <td>0.000000</td>\n",
       "    </tr>\n",
       "    <tr>\n",
       "      <th>1</th>\n",
       "      <td>3.0</td>\n",
       "      <td>0.052023</td>\n",
       "    </tr>\n",
       "    <tr>\n",
       "      <th>2</th>\n",
       "      <td>4.0</td>\n",
       "      <td>0.066743</td>\n",
       "    </tr>\n",
       "    <tr>\n",
       "      <th>3</th>\n",
       "      <td>5.0</td>\n",
       "      <td>0.103289</td>\n",
       "    </tr>\n",
       "    <tr>\n",
       "      <th>4</th>\n",
       "      <td>6.0</td>\n",
       "      <td>0.151293</td>\n",
       "    </tr>\n",
       "    <tr>\n",
       "      <th>...</th>\n",
       "      <td>...</td>\n",
       "      <td>...</td>\n",
       "    </tr>\n",
       "    <tr>\n",
       "      <th>113</th>\n",
       "      <td>124.0</td>\n",
       "      <td>1.000000</td>\n",
       "    </tr>\n",
       "    <tr>\n",
       "      <th>114</th>\n",
       "      <td>129.0</td>\n",
       "      <td>1.000000</td>\n",
       "    </tr>\n",
       "    <tr>\n",
       "      <th>115</th>\n",
       "      <td>135.0</td>\n",
       "      <td>3.000000</td>\n",
       "    </tr>\n",
       "    <tr>\n",
       "      <th>116</th>\n",
       "      <td>150.0</td>\n",
       "      <td>2.000000</td>\n",
       "    </tr>\n",
       "    <tr>\n",
       "      <th>117</th>\n",
       "      <td>151.0</td>\n",
       "      <td>0.000000</td>\n",
       "    </tr>\n",
       "  </tbody>\n",
       "</table>\n",
       "<p>118 rows × 2 columns</p>\n",
       "</div>"
      ],
      "text/plain": [
       "     total_acc  mort_acc\n",
       "0          2.0  0.000000\n",
       "1          3.0  0.052023\n",
       "2          4.0  0.066743\n",
       "3          5.0  0.103289\n",
       "4          6.0  0.151293\n",
       "..         ...       ...\n",
       "113      124.0  1.000000\n",
       "114      129.0  1.000000\n",
       "115      135.0  3.000000\n",
       "116      150.0  2.000000\n",
       "117      151.0  0.000000\n",
       "\n",
       "[118 rows x 2 columns]"
      ]
     },
     "execution_count": 686,
     "metadata": {},
     "output_type": "execute_result"
    }
   ],
   "source": [
    "mean1 = LendingClub.groupby('total_acc').mean()['mort_acc'].reset_index()\n",
    "mean1"
   ]
  },
  {
   "cell_type": "code",
   "execution_count": 687,
   "id": "ce40e3cb-4a6c-4956-a710-dab9f7737986",
   "metadata": {},
   "outputs": [
    {
     "data": {
      "text/plain": [
       "0.05202312138728324"
      ]
     },
     "execution_count": 687,
     "metadata": {},
     "output_type": "execute_result"
    }
   ],
   "source": [
    "mean2 = LendingClub.groupby('total_acc').mean()['mort_acc']\n",
    "mean2[3.0]"
   ]
  },
  {
   "cell_type": "code",
   "execution_count": 688,
   "id": "c89168b4-d6af-4783-938e-286dd9323017",
   "metadata": {},
   "outputs": [],
   "source": [
    "LendingClub['mort_acc'] = LendingClub[['total_acc','mort_acc']].apply(lambda x: mean2[x[0]] if np.isnan(x[1]) == True else x[1], axis =1) \n"
   ]
  },
  {
   "cell_type": "code",
   "execution_count": 689,
   "id": "a439b136-c049-48d1-b2ad-40af0d5c8bc1",
   "metadata": {},
   "outputs": [
    {
     "data": {
      "text/plain": [
       "loan_amnt                 0\n",
       "term                      0\n",
       "int_rate                  0\n",
       "installment               0\n",
       "grade                     0\n",
       "sub_grade                 0\n",
       "home_ownership            0\n",
       "annual_inc                0\n",
       "verification_status       0\n",
       "issue_d                   0\n",
       "loan_status               0\n",
       "purpose                   0\n",
       "dti                       0\n",
       "earliest_cr_line          0\n",
       "open_acc                  0\n",
       "pub_rec                   0\n",
       "revol_bal                 0\n",
       "revol_util              276\n",
       "total_acc                 0\n",
       "initial_list_status       0\n",
       "application_type          0\n",
       "mort_acc                  0\n",
       "pub_rec_bankruptcies    535\n",
       "address                   0\n",
       "loan_repaid               0\n",
       "dtype: int64"
      ]
     },
     "execution_count": 689,
     "metadata": {},
     "output_type": "execute_result"
    }
   ],
   "source": [
    "LendingClub.isna().sum()"
   ]
  },
  {
   "cell_type": "markdown",
   "id": "46cb91f2-0d33-4c2e-bd3d-da894704b251",
   "metadata": {},
   "source": [
    "Now missing values of mort_acc is filled, let's remove the missing rows of the revol_util and the pub_rec_bankruptcies since they account for less than 0.5% of the total data"
   ]
  },
  {
   "cell_type": "code",
   "execution_count": 690,
   "id": "635036cd-9acb-4b02-8ffc-65c79725cb47",
   "metadata": {},
   "outputs": [],
   "source": [
    "LendingClub.dropna(inplace=True)"
   ]
  },
  {
   "cell_type": "code",
   "execution_count": 691,
   "id": "1b93b7de-860b-40e4-a46e-5424f9f3415d",
   "metadata": {},
   "outputs": [
    {
     "data": {
      "text/plain": [
       "loan_amnt               0\n",
       "term                    0\n",
       "int_rate                0\n",
       "installment             0\n",
       "grade                   0\n",
       "sub_grade               0\n",
       "home_ownership          0\n",
       "annual_inc              0\n",
       "verification_status     0\n",
       "issue_d                 0\n",
       "loan_status             0\n",
       "purpose                 0\n",
       "dti                     0\n",
       "earliest_cr_line        0\n",
       "open_acc                0\n",
       "pub_rec                 0\n",
       "revol_bal               0\n",
       "revol_util              0\n",
       "total_acc               0\n",
       "initial_list_status     0\n",
       "application_type        0\n",
       "mort_acc                0\n",
       "pub_rec_bankruptcies    0\n",
       "address                 0\n",
       "loan_repaid             0\n",
       "dtype: int64"
      ]
     },
     "execution_count": 691,
     "metadata": {},
     "output_type": "execute_result"
    }
   ],
   "source": [
    "LendingClub.isnull().sum()"
   ]
  },
  {
   "cell_type": "markdown",
   "id": "829ea91d-b2e7-42b1-aa89-e85b0ad6e7cd",
   "metadata": {},
   "source": [
    "### Categorical Variables and Dummy Variables"
   ]
  },
  {
   "cell_type": "code",
   "execution_count": 692,
   "id": "6d656b3a-fa9b-41f6-99cb-67ba63a7b677",
   "metadata": {},
   "outputs": [
    {
     "data": {
      "text/html": [
       "<div>\n",
       "<style scoped>\n",
       "    .dataframe tbody tr th:only-of-type {\n",
       "        vertical-align: middle;\n",
       "    }\n",
       "\n",
       "    .dataframe tbody tr th {\n",
       "        vertical-align: top;\n",
       "    }\n",
       "\n",
       "    .dataframe thead th {\n",
       "        text-align: right;\n",
       "    }\n",
       "</style>\n",
       "<table border=\"1\" class=\"dataframe\">\n",
       "  <thead>\n",
       "    <tr style=\"text-align: right;\">\n",
       "      <th></th>\n",
       "    </tr>\n",
       "  </thead>\n",
       "  <tbody>\n",
       "    <tr>\n",
       "      <th>term</th>\n",
       "    </tr>\n",
       "    <tr>\n",
       "      <th>grade</th>\n",
       "    </tr>\n",
       "    <tr>\n",
       "      <th>sub_grade</th>\n",
       "    </tr>\n",
       "    <tr>\n",
       "      <th>home_ownership</th>\n",
       "    </tr>\n",
       "    <tr>\n",
       "      <th>verification_status</th>\n",
       "    </tr>\n",
       "    <tr>\n",
       "      <th>issue_d</th>\n",
       "    </tr>\n",
       "    <tr>\n",
       "      <th>loan_status</th>\n",
       "    </tr>\n",
       "    <tr>\n",
       "      <th>purpose</th>\n",
       "    </tr>\n",
       "    <tr>\n",
       "      <th>earliest_cr_line</th>\n",
       "    </tr>\n",
       "    <tr>\n",
       "      <th>initial_list_status</th>\n",
       "    </tr>\n",
       "    <tr>\n",
       "      <th>application_type</th>\n",
       "    </tr>\n",
       "    <tr>\n",
       "      <th>address</th>\n",
       "    </tr>\n",
       "  </tbody>\n",
       "</table>\n",
       "</div>"
      ],
      "text/plain": [
       "Empty DataFrame\n",
       "Columns: []\n",
       "Index: [term, grade, sub_grade, home_ownership, verification_status, issue_d, loan_status, purpose, earliest_cr_line, initial_list_status, application_type, address]"
      ]
     },
     "execution_count": 692,
     "metadata": {},
     "output_type": "execute_result"
    }
   ],
   "source": [
    "LendingClub.select_dtypes('object').head(0).T #list all the columns that are non-numeric"
   ]
  },
  {
   "cell_type": "code",
   "execution_count": 693,
   "id": "e18ebb42-68a4-4f60-a7ef-859e499e8887",
   "metadata": {},
   "outputs": [
    {
     "data": {
      "text/plain": [
       " 36 months    301247\n",
       " 60 months     93972\n",
       "Name: term, dtype: int64"
      ]
     },
     "execution_count": 693,
     "metadata": {},
     "output_type": "execute_result"
    }
   ],
   "source": [
    "LendingClub['term'].value_counts()"
   ]
  },
  {
   "cell_type": "code",
   "execution_count": 694,
   "id": "608a5c31-6931-4f48-a3e1-fbad5b9b12e8",
   "metadata": {},
   "outputs": [],
   "source": [
    "#Convert the term feature into either a 36 or 60 integer numeric data\n",
    "LendingClub['term'] = LendingClub['term'].apply(lambda x:36 if x == \" 36 months\"\n",
    "                                               else 60)"
   ]
  },
  {
   "cell_type": "code",
   "execution_count": 695,
   "id": "8a1fbc0e-1632-4d93-b806-7180a1f126ea",
   "metadata": {},
   "outputs": [],
   "source": [
    "#We already know grade is part of sub_grade, \n",
    "#so just drop the grade feature.\n",
    "LendingClub.drop(columns= 'grade', inplace=True)"
   ]
  },
  {
   "cell_type": "code",
   "execution_count": 696,
   "id": "5d983d47-9b39-4160-93d8-dba64447bf35",
   "metadata": {},
   "outputs": [],
   "source": [
    "#convert subgrade dummies and concatenate to dataframe\n",
    "subgrade_dummies = pd.get_dummies(LendingClub['sub_grade'], drop_first=True)\n",
    "LendingClub = pd.concat([LendingClub.drop(columns='sub_grade'), subgrade_dummies], axis=1)"
   ]
  },
  {
   "cell_type": "code",
   "execution_count": 697,
   "id": "0ffbcce4-6098-4865-8606-63814cdc1cb3",
   "metadata": {},
   "outputs": [
    {
     "data": {
      "text/html": [
       "<div>\n",
       "<style scoped>\n",
       "    .dataframe tbody tr th:only-of-type {\n",
       "        vertical-align: middle;\n",
       "    }\n",
       "\n",
       "    .dataframe tbody tr th {\n",
       "        vertical-align: top;\n",
       "    }\n",
       "\n",
       "    .dataframe thead th {\n",
       "        text-align: right;\n",
       "    }\n",
       "</style>\n",
       "<table border=\"1\" class=\"dataframe\">\n",
       "  <thead>\n",
       "    <tr style=\"text-align: right;\">\n",
       "      <th></th>\n",
       "    </tr>\n",
       "  </thead>\n",
       "  <tbody>\n",
       "    <tr>\n",
       "      <th>home_ownership</th>\n",
       "    </tr>\n",
       "    <tr>\n",
       "      <th>verification_status</th>\n",
       "    </tr>\n",
       "    <tr>\n",
       "      <th>issue_d</th>\n",
       "    </tr>\n",
       "    <tr>\n",
       "      <th>loan_status</th>\n",
       "    </tr>\n",
       "    <tr>\n",
       "      <th>purpose</th>\n",
       "    </tr>\n",
       "    <tr>\n",
       "      <th>earliest_cr_line</th>\n",
       "    </tr>\n",
       "    <tr>\n",
       "      <th>initial_list_status</th>\n",
       "    </tr>\n",
       "    <tr>\n",
       "      <th>application_type</th>\n",
       "    </tr>\n",
       "    <tr>\n",
       "      <th>address</th>\n",
       "    </tr>\n",
       "  </tbody>\n",
       "</table>\n",
       "</div>"
      ],
      "text/plain": [
       "Empty DataFrame\n",
       "Columns: []\n",
       "Index: [home_ownership, verification_status, issue_d, loan_status, purpose, earliest_cr_line, initial_list_status, application_type, address]"
      ]
     },
     "execution_count": 697,
     "metadata": {},
     "output_type": "execute_result"
    }
   ],
   "source": [
    "LendingClub.select_dtypes('object').head(0).T"
   ]
  },
  {
   "cell_type": "markdown",
   "id": "d1ca6139-4734-4c7d-bec2-3c4457b0a4f5",
   "metadata": {},
   "source": [
    "**verification_status, application_type,initial_list_status,purpose**"
   ]
  },
  {
   "cell_type": "code",
   "execution_count": 698,
   "id": "176df9cd-c850-4669-808c-ae2d4b6153d0",
   "metadata": {},
   "outputs": [
    {
     "data": {
      "text/plain": [
       "Verified           139451\n",
       "Source Verified    131301\n",
       "Not Verified       124467\n",
       "Name: verification_status, dtype: int64"
      ]
     },
     "execution_count": 698,
     "metadata": {},
     "output_type": "execute_result"
    }
   ],
   "source": [
    "\n",
    "LendingClub['verification_status'].value_counts()"
   ]
  },
  {
   "cell_type": "code",
   "execution_count": 699,
   "id": "70e34104-0b26-43aa-a77b-50de8ed0c80e",
   "metadata": {},
   "outputs": [],
   "source": [
    "vs_dummy = pd.get_dummies(LendingClub[['verification_status', 'application_type','initial_list_status','purpose' ]], drop_first=True)"
   ]
  },
  {
   "cell_type": "code",
   "execution_count": 700,
   "id": "31260cc0-7fae-4cd1-a969-7a8f92edd59e",
   "metadata": {},
   "outputs": [],
   "source": [
    "LendingClub = pd.concat([LendingClub.drop(columns=['verification_status','application_type','initial_list_status','purpose']),vs_dummy], axis=1)"
   ]
  },
  {
   "cell_type": "code",
   "execution_count": 701,
   "id": "d9f4a894-e0be-4436-8106-39520ddbd2ee",
   "metadata": {},
   "outputs": [
    {
     "data": {
      "text/plain": [
       "MORTGAGE    198022\n",
       "RENT        159395\n",
       "OWN          37660\n",
       "OTHER          110\n",
       "NONE            29\n",
       "ANY              3\n",
       "Name: home_ownership, dtype: int64"
      ]
     },
     "execution_count": 701,
     "metadata": {},
     "output_type": "execute_result"
    }
   ],
   "source": [
    "#home_ownership\n",
    "LendingClub['home_ownership'].value_counts()"
   ]
  },
  {
   "cell_type": "code",
   "execution_count": 702,
   "id": "4031e52b-eefc-4728-922d-3ef41994552d",
   "metadata": {},
   "outputs": [],
   "source": [
    "LendingClub['home_ownership'].replace(['NONE', 'ANY'], 'OTHER', inplace=True)\n"
   ]
  },
  {
   "cell_type": "code",
   "execution_count": 703,
   "id": "5acb197e-8aa7-4bd6-86eb-f0bf54b9fd72",
   "metadata": {},
   "outputs": [],
   "source": [
    "home_dummies = pd.get_dummies(LendingClub['home_ownership'], drop_first=True)\n",
    "LendingClub = pd.concat([LendingClub.drop(columns='home_ownership'), home_dummies], axis = 1)"
   ]
  },
  {
   "cell_type": "code",
   "execution_count": 704,
   "id": "b26b7a13-b88e-4fd4-8b7c-7ae78c2c3a62",
   "metadata": {},
   "outputs": [
    {
     "data": {
      "text/plain": [
       "0       0174 Michelle Gateway\\nMendozaberg, OK 22690\n",
       "1    1076 Carney Fort Apt. 347\\nLoganmouth, SD 05113\n",
       "2    87025 Mark Dale Apt. 269\\nNew Sabrina, WV 05113\n",
       "3              823 Reid Ford\\nDelacruzside, MA 00813\n",
       "4               679 Luna Roads\\nGreggshire, VA 11650\n",
       "Name: address, dtype: object"
      ]
     },
     "execution_count": 704,
     "metadata": {},
     "output_type": "execute_result"
    }
   ],
   "source": [
    "# address, extract zipcode\n",
    "LendingClub['address'].head()"
   ]
  },
  {
   "cell_type": "code",
   "execution_count": 705,
   "id": "4629537c-33ad-4724-850e-898ab968e38c",
   "metadata": {},
   "outputs": [],
   "source": [
    "zip_code = LendingClub['address'].apply(lambda x: x.split(' ')[-1])\n",
    "\n",
    "zipcode_dummies = pd.get_dummies(zip_code, drop_first=True)\n",
    "LendingClub = pd.concat([LendingClub.drop(columns='address'), zipcode_dummies], axis=1)"
   ]
  },
  {
   "cell_type": "markdown",
   "id": "c2ed67af-21cc-4a1a-bad0-e730e805a616",
   "metadata": {},
   "source": [
    "**issued_d**\n",
    "This would be data leakage, we wouldn't know beforehand whether or not a loan would be issued when using our model, so in theory we wouldn't have an issue_date, drop this feature."
   ]
  },
  {
   "cell_type": "code",
   "execution_count": 706,
   "id": "3a5a29b2-7978-4a06-9820-a644187019ff",
   "metadata": {},
   "outputs": [],
   "source": [
    "LendingClub.drop(columns='issue_d', inplace=True)"
   ]
  },
  {
   "cell_type": "markdown",
   "id": "034db7e4-b717-4dda-ac7c-d05f2c5e15e7",
   "metadata": {},
   "source": [
    "**earliest_cr_line**\n",
    "\n",
    "The month the borrower's earliest reported credit line was opened.This appears to be a historical time stamp feature. "
   ]
  },
  {
   "cell_type": "code",
   "execution_count": 707,
   "id": "2d17bbbd-2705-485d-ad03-4c8fcc875056",
   "metadata": {},
   "outputs": [
    {
     "data": {
      "text/plain": [
       "0    Jun-1990\n",
       "1    Jul-2004\n",
       "2    Aug-2007\n",
       "3    Sep-2006\n",
       "4    Mar-1999\n",
       "Name: earliest_cr_line, dtype: object"
      ]
     },
     "execution_count": 707,
     "metadata": {},
     "output_type": "execute_result"
    }
   ],
   "source": [
    "LendingClub['earliest_cr_line'][:5]"
   ]
  },
  {
   "cell_type": "code",
   "execution_count": 708,
   "id": "e5a0ef5c-4d07-41a5-ae78-46a0dee0d528",
   "metadata": {},
   "outputs": [
    {
     "data": {
      "text/plain": [
       "0    1990\n",
       "1    2004\n",
       "2    2007\n",
       "3    2006\n",
       "4    1999\n",
       "Name: earliest_cr_line, dtype: int64"
      ]
     },
     "execution_count": 708,
     "metadata": {},
     "output_type": "execute_result"
    }
   ],
   "source": [
    "LendingClub['earliest_cr_line'][:5].apply(lambda x: int(x.split(\"-\")[-1]))\n"
   ]
  },
  {
   "cell_type": "code",
   "execution_count": 709,
   "id": "0f74701b-4f9b-45fe-9376-ef8fb531d35f",
   "metadata": {},
   "outputs": [],
   "source": [
    "#Extract the year\n",
    "year_ect = LendingClub['earliest_cr_line'].apply(lambda x: int(x.split(\"-\")[-1]))"
   ]
  },
  {
   "cell_type": "code",
   "execution_count": 710,
   "id": "570e54d4-ec74-4b1b-b97b-2490552b2ccf",
   "metadata": {},
   "outputs": [],
   "source": [
    "LendingClub = pd.concat([LendingClub.drop(columns='earliest_cr_line'), year_ect], axis=1)"
   ]
  },
  {
   "cell_type": "markdown",
   "id": "e61882dc-5ce8-4ada-ac72-80813c264424",
   "metadata": {},
   "source": [
    "<br> \n",
    "\n",
    "### Creating the Model"
   ]
  },
  {
   "cell_type": "markdown",
   "id": "685dccac-4afd-48f3-a5e9-b8340d6c0127",
   "metadata": {},
   "source": [
    "<br>\n",
    "\n",
    "**Train test split** "
   ]
  },
  {
   "cell_type": "code",
   "execution_count": 711,
   "id": "a6a263fc-faf3-47aa-bdf1-53f2f6a796ba",
   "metadata": {},
   "outputs": [],
   "source": [
    "LendingClub.drop(columns='loan_status', inplace=True)"
   ]
  },
  {
   "cell_type": "code",
   "execution_count": 712,
   "id": "8112f175-e3f0-4874-83eb-9905160b94e8",
   "metadata": {},
   "outputs": [
    {
     "data": {
      "text/plain": [
       "(395219, 78)"
      ]
     },
     "execution_count": 712,
     "metadata": {},
     "output_type": "execute_result"
    }
   ],
   "source": [
    "X = LendingClub.drop(columns = 'loan_repaid').values\n",
    "X.shape"
   ]
  },
  {
   "cell_type": "code",
   "execution_count": 713,
   "id": "820501b0-2d1d-47d3-be1a-16fd559652c7",
   "metadata": {},
   "outputs": [
    {
     "data": {
      "text/plain": [
       "(395219,)"
      ]
     },
     "execution_count": 713,
     "metadata": {},
     "output_type": "execute_result"
    }
   ],
   "source": [
    "y = LendingClub['loan_repaid'].values\n",
    "y.shape"
   ]
  },
  {
   "cell_type": "code",
   "execution_count": 714,
   "id": "6578dafe-3b21-48d1-a6e5-cef7d9b06fef",
   "metadata": {},
   "outputs": [],
   "source": [
    "from sklearn.model_selection import train_test_split\n",
    "X_train, X_test, y_train, y_test = train_test_split(X, y, test_size=0.2, random_state=101)"
   ]
  },
  {
   "cell_type": "markdown",
   "id": "f6f0de89-dafd-4b29-9954-d39136755967",
   "metadata": {},
   "source": [
    "**Normalizing the Data**"
   ]
  },
  {
   "cell_type": "code",
   "execution_count": 715,
   "id": "79e9d6b4-af08-4f41-aebb-6b470cab803a",
   "metadata": {},
   "outputs": [],
   "source": [
    "from sklearn.preprocessing import MinMaxScaler\n",
    "scaler = MinMaxScaler()\n",
    "X_train = scaler.fit_transform(X_train)\n",
    "X_test = scaler.transform(X_test)\n"
   ]
  },
  {
   "cell_type": "markdown",
   "id": "8b5f3648-e624-4c62-b6f5-e5336feaffab",
   "metadata": {},
   "source": [
    "**Modeling**"
   ]
  },
  {
   "cell_type": "code",
   "execution_count": 716,
   "id": "d07ff0b8-c7a7-4c53-907b-c80970c743c8",
   "metadata": {},
   "outputs": [],
   "source": [
    "import tensorflow as tf\n",
    "from tensorflow.keras.models import Sequential\n",
    "from tensorflow.keras.layers import Dense, Dropout"
   ]
  },
  {
   "cell_type": "code",
   "execution_count": 717,
   "id": "9d07a819-8776-4622-beaf-43df4f777acf",
   "metadata": {},
   "outputs": [
    {
     "data": {
      "text/plain": [
       "(316175, 78)"
      ]
     },
     "execution_count": 717,
     "metadata": {},
     "output_type": "execute_result"
    }
   ],
   "source": [
    "X_train.shape"
   ]
  },
  {
   "cell_type": "code",
   "execution_count": 718,
   "id": "545a804b-1bdb-4af6-8e70-2f0fed100765",
   "metadata": {},
   "outputs": [],
   "source": [
    "model = Sequential()\n",
    "model.add(Dense(78, activation = 'relu'))\n",
    "model.add(Dropout(0.2))\n",
    "\n",
    "model.add(Dense(39, activation = 'relu'))\n",
    "model.add(Dropout(0.2))\n",
    "\n",
    "model.add(Dense(19, activation = 'relu'))\n",
    "model.add(Dropout(0.2))\n",
    "\n",
    "model.add(Dense(units = 1, activation = 'sigmoid'))\n",
    "\n",
    "#complie model\n",
    "model.compile(loss = 'binary_crossentropy',\n",
    "             optimizer = 'adam')\n"
   ]
  },
  {
   "cell_type": "code",
   "execution_count": 719,
   "id": "3287cabf-407d-463d-ae26-61ebfe942a04",
   "metadata": {},
   "outputs": [
    {
     "name": "stdout",
     "output_type": "stream",
     "text": [
      "Epoch 1/25\n",
      "1236/1236 [==============================] - 5s 3ms/step - loss: 0.2978 - val_loss: 0.2643\n",
      "Epoch 2/25\n",
      "1236/1236 [==============================] - 4s 3ms/step - loss: 0.2653 - val_loss: 0.2627\n",
      "Epoch 3/25\n",
      "1236/1236 [==============================] - 4s 3ms/step - loss: 0.2629 - val_loss: 0.2621\n",
      "Epoch 4/25\n",
      "1236/1236 [==============================] - 4s 3ms/step - loss: 0.2615 - val_loss: 0.2618\n",
      "Epoch 5/25\n",
      "1236/1236 [==============================] - 5s 4ms/step - loss: 0.2610 - val_loss: 0.2616\n",
      "Epoch 6/25\n",
      "1236/1236 [==============================] - 4s 3ms/step - loss: 0.2600 - val_loss: 0.2615\n",
      "Epoch 7/25\n",
      "1236/1236 [==============================] - 4s 3ms/step - loss: 0.2601 - val_loss: 0.2619\n",
      "Epoch 8/25\n",
      "1236/1236 [==============================] - 4s 3ms/step - loss: 0.2595 - val_loss: 0.2615\n",
      "Epoch 9/25\n",
      "1236/1236 [==============================] - 4s 3ms/step - loss: 0.2592 - val_loss: 0.2615\n",
      "Epoch 10/25\n",
      "1236/1236 [==============================] - 5s 4ms/step - loss: 0.2591 - val_loss: 0.2613\n",
      "Epoch 11/25\n",
      "1236/1236 [==============================] - 4s 3ms/step - loss: 0.2588 - val_loss: 0.2610\n",
      "Epoch 12/25\n",
      "1236/1236 [==============================] - 4s 4ms/step - loss: 0.2586 - val_loss: 0.2614\n",
      "Epoch 13/25\n",
      "1236/1236 [==============================] - 4s 3ms/step - loss: 0.2582 - val_loss: 0.2611\n",
      "Epoch 14/25\n",
      "1236/1236 [==============================] - 4s 4ms/step - loss: 0.2580 - val_loss: 0.2626\n",
      "Epoch 15/25\n",
      "1236/1236 [==============================] - 4s 3ms/step - loss: 0.2577 - val_loss: 0.2613\n",
      "Epoch 16/25\n",
      "1236/1236 [==============================] - 4s 3ms/step - loss: 0.2574 - val_loss: 0.2616\n",
      "Epoch 17/25\n",
      "1236/1236 [==============================] - 4s 4ms/step - loss: 0.2573 - val_loss: 0.2615\n",
      "Epoch 18/25\n",
      "1236/1236 [==============================] - 4s 3ms/step - loss: 0.2572 - val_loss: 0.2618\n",
      "Epoch 19/25\n",
      "1236/1236 [==============================] - 4s 3ms/step - loss: 0.2570 - val_loss: 0.2614\n",
      "Epoch 20/25\n",
      "1236/1236 [==============================] - 4s 3ms/step - loss: 0.2569 - val_loss: 0.2615\n",
      "Epoch 21/25\n",
      "1236/1236 [==============================] - 4s 3ms/step - loss: 0.2569 - val_loss: 0.2611\n",
      "Epoch 22/25\n",
      "1236/1236 [==============================] - 4s 3ms/step - loss: 0.2567 - val_loss: 0.2615\n",
      "Epoch 23/25\n",
      "1236/1236 [==============================] - 4s 3ms/step - loss: 0.2561 - val_loss: 0.2618\n",
      "Epoch 24/25\n",
      "1236/1236 [==============================] - 4s 3ms/step - loss: 0.2562 - val_loss: 0.2611\n",
      "Epoch 25/25\n",
      "1236/1236 [==============================] - 4s 3ms/step - loss: 0.2561 - val_loss: 0.2615\n"
     ]
    },
    {
     "data": {
      "text/plain": [
       "<keras.callbacks.History at 0x7ffb1cdb50d0>"
      ]
     },
     "execution_count": 719,
     "metadata": {},
     "output_type": "execute_result"
    }
   ],
   "source": [
    "model.fit(X_train, y_train,\n",
    "         epochs=25,\n",
    "         batch_size=256,\n",
    "         validation_data=(X_test, y_test))"
   ]
  },
  {
   "cell_type": "code",
   "execution_count": 720,
   "id": "94791d87-e127-4811-8c89-c3d154ab20cb",
   "metadata": {},
   "outputs": [],
   "source": [
    "# save model\n",
    "from tensorflow.keras.models import load_model"
   ]
  },
  {
   "cell_type": "code",
   "execution_count": 721,
   "id": "68110181-6471-4e73-8d69-fc77b34f5ab4",
   "metadata": {},
   "outputs": [],
   "source": [
    "model.save('model_Lendingclub.h5')"
   ]
  },
  {
   "cell_type": "markdown",
   "id": "36ced49d-8c90-4301-8487-0fd1cb7596bc",
   "metadata": {},
   "source": [
    "### Evaluating Model Performance"
   ]
  },
  {
   "cell_type": "code",
   "execution_count": 722,
   "id": "53542a46-093d-4970-b07c-09e94e7ab83a",
   "metadata": {},
   "outputs": [
    {
     "data": {
      "text/plain": [
       "<AxesSubplot:>"
      ]
     },
     "execution_count": 722,
     "metadata": {},
     "output_type": "execute_result"
    },
    {
     "data": {
      "text/plain": [
       "<Figure size 864x576 with 0 Axes>"
      ]
     },
     "metadata": {},
     "output_type": "display_data"
    },
    {
     "data": {
      "image/png": "[encoded data removed]",
      "text/plain": [
       "<Figure size 432x288 with 1 Axes>"
      ]
     },
     "metadata": {},
     "output_type": "display_data"
    }
   ],
   "source": [
    "losses = pd.DataFrame(model.history.history)\n",
    "plt.figure(figsize=(12,8))\n",
    "losses.plot()"
   ]
  },
  {
   "cell_type": "code",
   "execution_count": 723,
   "id": "6f4f4d7c-853a-467c-bb9e-5791317d38b3",
   "metadata": {},
   "outputs": [],
   "source": [
    "from sklearn import metrics"
   ]
  },
  {
   "cell_type": "code",
   "execution_count": 724,
   "id": "2d1ce6b0-ae63-43a5-b5f0-ac85dac3815d",
   "metadata": {},
   "outputs": [
    {
     "name": "stdout",
     "output_type": "stream",
     "text": [
      "2471/2471 [==============================] - 3s 1ms/step\n"
     ]
    }
   ],
   "source": [
    "predicts = (model.predict(X_test) > 0.5).astype(\"int32\")"
   ]
  },
  {
   "cell_type": "code",
   "execution_count": 725,
   "id": "37ab188a-86fc-414b-ac27-35af7ecc54d0",
   "metadata": {},
   "outputs": [
    {
     "data": {
      "text/plain": [
       "array([[1],\n",
       "       [1],\n",
       "       [1],\n",
       "       ...,\n",
       "       [1],\n",
       "       [1],\n",
       "       [0]], dtype=int32)"
      ]
     },
     "execution_count": 725,
     "metadata": {},
     "output_type": "execute_result"
    }
   ],
   "source": [
    "predicts"
   ]
  },
  {
   "cell_type": "code",
   "execution_count": 726,
   "id": "4f8db3da-8367-445f-9d95-9e9f7c20e3ae",
   "metadata": {},
   "outputs": [
    {
     "name": "stdout",
     "output_type": "stream",
     "text": [
      "[[ 6780  8878]\n",
      " [   53 63333]]\n",
      "              precision    recall  f1-score   support\n",
      "\n",
      "           0       0.99      0.43      0.60     15658\n",
      "           1       0.88      1.00      0.93     63386\n",
      "\n",
      "    accuracy                           0.89     79044\n",
      "   macro avg       0.93      0.72      0.77     79044\n",
      "weighted avg       0.90      0.89      0.87     79044\n",
      "\n"
     ]
    }
   ],
   "source": [
    "print(metrics.confusion_matrix(y_test, predicts))\n",
    "print(metrics.classification_report(y_test, predicts))"
   ]
  },
  {
   "cell_type": "markdown",
   "id": "3d654930-1622-4319-bfbf-cbed1c43d06e",
   "metadata": {},
   "source": [
    "The model perform a good job in classification with true positive accuracy 88%, f1-score is 0.93 significant close to 1, which tells us that the model does a good job of predicting whether or not a customer paid back the loan."
   ]
  },
  {
   "cell_type": "code",
   "execution_count": null,
   "id": "3ca98663-a19e-4749-8230-75cf02b0523f",
   "metadata": {},
   "outputs": [],
   "source": []
  }
 ],
 "metadata": {
  "kernelspec": {
   "display_name": "Python 3 (ipykernel)",
   "language": "python",
   "name": "python3"
  },
  "language_info": {
   "codemirror_mode": {
    "name": "ipython",
    "version": 3
   },
   "file_extension": ".py",
   "mimetype": "text/x-python",
   "name": "python",
   "nbconvert_exporter": "python",
   "pygments_lexer": "ipython3",
   "version": "3.8.8"
  }
 },
 "nbformat": 4,
 "nbformat_minor": 5
}
